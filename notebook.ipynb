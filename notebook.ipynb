{
 "cells": [
  {
   "cell_type": "code",
   "execution_count": 13,
   "metadata": {},
   "outputs": [
    {
     "name": "stdout",
     "output_type": "stream",
     "text": [
      "/Users/zane/Data/protein/cafa-5-protein-function-prediction/sample_submission.tsv\n",
      "/Users/zane/Data/protein/cafa-5-protein-function-prediction/.DS_Store\n",
      "/Users/zane/Data/protein/cafa-5-protein-function-prediction/IA.txt\n",
      "/Users/zane/Data/protein/cafa-5-protein-function-prediction/Test (Targets)/.DS_Store\n",
      "/Users/zane/Data/protein/cafa-5-protein-function-prediction/Test (Targets)/testsuperset.fasta\n",
      "/Users/zane/Data/protein/cafa-5-protein-function-prediction/Test (Targets)/testsuperset-taxon-list.tsv\n",
      "/Users/zane/Data/protein/cafa-5-protein-function-prediction/Train/train_taxonomy.tsv\n",
      "/Users/zane/Data/protein/cafa-5-protein-function-prediction/Train/.DS_Store\n",
      "/Users/zane/Data/protein/cafa-5-protein-function-prediction/Train/train_terms.tsv\n",
      "/Users/zane/Data/protein/cafa-5-protein-function-prediction/Train/go-basic.obo\n",
      "/Users/zane/Data/protein/cafa-5-protein-function-prediction/Train/train_sequences.fasta\n"
     ]
    }
   ],
   "source": [
    "import numpy as np\n",
    "import pandas as pd \n",
    "import os\n",
    "\n",
    "home_dir = os.environ.get('HOME')\n",
    "directory_path = os.path.join(home_dir, 'Data', 'protein', 'cafa-5-protein-function-prediction')\n",
    "\n",
    "for dirname, _, filenames in os.walk(directory_path):\n",
    "    for filename in filenames:\n",
    "        print(os.path.join(dirname, filename))"
   ]
  }
 ],
 "metadata": {
  "kernelspec": {
   "display_name": "pytorch2",
   "language": "python",
   "name": "python3"
  },
  "language_info": {
   "codemirror_mode": {
    "name": "ipython",
    "version": 3
   },
   "file_extension": ".py",
   "mimetype": "text/x-python",
   "name": "python",
   "nbconvert_exporter": "python",
   "pygments_lexer": "ipython3",
   "version": "3.9.18"
  }
 },
 "nbformat": 4,
 "nbformat_minor": 2
}

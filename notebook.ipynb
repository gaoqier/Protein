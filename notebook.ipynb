{
 "cells": [
  {
   "cell_type": "code",
   "execution_count": 1,
   "metadata": {},
   "outputs": [
    {
     "name": "stdout",
     "output_type": "stream",
     "text": [
      "/Users/zane/Data/protein/cafa-5-protein-function-prediction/sample_submission.tsv\n",
      "/Users/zane/Data/protein/cafa-5-protein-function-prediction/.DS_Store\n",
      "/Users/zane/Data/protein/cafa-5-protein-function-prediction/IA.txt\n",
      "/Users/zane/Data/protein/cafa-5-protein-function-prediction/Test (Targets)/.DS_Store\n",
      "/Users/zane/Data/protein/cafa-5-protein-function-prediction/Test (Targets)/testsuperset.fasta\n",
      "/Users/zane/Data/protein/cafa-5-protein-function-prediction/Test (Targets)/testsuperset-taxon-list.tsv\n",
      "/Users/zane/Data/protein/cafa-5-protein-function-prediction/Train/train_taxonomy.tsv\n",
      "/Users/zane/Data/protein/cafa-5-protein-function-prediction/Train/.DS_Store\n",
      "/Users/zane/Data/protein/cafa-5-protein-function-prediction/Train/train_terms.tsv\n",
      "/Users/zane/Data/protein/cafa-5-protein-function-prediction/Train/go-basic.obo\n",
      "/Users/zane/Data/protein/cafa-5-protein-function-prediction/Train/train_sequences.fasta\n"
     ]
    }
   ],
   "source": [
    "import numpy as np\n",
    "import pandas as pd \n",
    "import os\n",
    "\n",
    "home_dir = os.environ.get('HOME')\n",
    "directory_path = os.path.join(home_dir, 'Data', 'protein', 'cafa-5-protein-function-prediction')\n",
    "\n",
    "for dirname, _, filenames in os.walk(directory_path):\n",
    "    for filename in filenames:\n",
    "        print(os.path.join(dirname, filename))"
   ]
  },
  {
   "cell_type": "markdown",
   "metadata": {},
   "source": [
    "- train_sequences.fasta - 训练集中蛋白质的氨基酸序列\n",
    "- train_terms.tsv - 蛋白质的训练集和相应的带注释的 GO 术语\n",
    "- train_taxonomy.tsv - 训练集中蛋白质的分类ID\n",
    "- go-basic.obo - 本体图结构\n",
    "- testsuperset.fasta - 应进行预测的蛋白质的氨基酸序列\n",
    "- testsuperset-taxon-list.tsv - 测试超集中蛋白质的分类ID（注意：您可能需要使用 encoding=\"ISO-8859-1\" 来读取 pandas 中的此文件）\n",
    "- IA.txt - 每个术语的信息积累。这用于衡量精确度和召回率（参见评估）\n",
    "- Sample_submission.csv - 正确格式的示例提交文件"
   ]
  },
  {
   "cell_type": "code",
   "execution_count": 2,
   "metadata": {},
   "outputs": [],
   "source": [
    "from Bio import SeqIO\n",
    "\n",
    "sequences = []\n",
    "for record in SeqIO.parse(os.path.join(directory_path, 'Train', 'train_sequences.fasta'), \"fasta\"):\n",
    "    sequences.append(str(record.seq))\n",
    "\n",
    "df = pd.DataFrame(sequences, columns=['sequence'])"
   ]
  },
  {
   "cell_type": "code",
   "execution_count": 3,
   "metadata": {},
   "outputs": [
    {
     "data": {
      "text/html": [
       "<div>\n",
       "<style scoped>\n",
       "    .dataframe tbody tr th:only-of-type {\n",
       "        vertical-align: middle;\n",
       "    }\n",
       "\n",
       "    .dataframe tbody tr th {\n",
       "        vertical-align: top;\n",
       "    }\n",
       "\n",
       "    .dataframe thead th {\n",
       "        text-align: right;\n",
       "    }\n",
       "</style>\n",
       "<table border=\"1\" class=\"dataframe\">\n",
       "  <thead>\n",
       "    <tr style=\"text-align: right;\">\n",
       "      <th></th>\n",
       "      <th>sequence</th>\n",
       "    </tr>\n",
       "  </thead>\n",
       "  <tbody>\n",
       "    <tr>\n",
       "      <th>0</th>\n",
       "      <td>MNSVTVSHAPYTITYHDDWEPVMSQLVEFYNEVASWLLRDETSPIP...</td>\n",
       "    </tr>\n",
       "    <tr>\n",
       "      <th>1</th>\n",
       "      <td>MTEYRNFLLLFITSLSVIYPCTGISWLGLTINGSSVGWNQTHHCKL...</td>\n",
       "    </tr>\n",
       "    <tr>\n",
       "      <th>2</th>\n",
       "      <td>MRLSSSPPRGPQQLSSFGSVDWLSQSSCSGPTHTPRPADFSLGSLP...</td>\n",
       "    </tr>\n",
       "    <tr>\n",
       "      <th>3</th>\n",
       "      <td>MGGEAGADGPRGRVKSLGLVFEDESKGCYSSGETVAGHVLLEAAEP...</td>\n",
       "    </tr>\n",
       "    <tr>\n",
       "      <th>4</th>\n",
       "      <td>MVETNSPPAGYTLKRSPSDLGEQQQPPRQISRSPGNTAAYHLTTAM...</td>\n",
       "    </tr>\n",
       "    <tr>\n",
       "      <th>...</th>\n",
       "      <td>...</td>\n",
       "    </tr>\n",
       "    <tr>\n",
       "      <th>142241</th>\n",
       "      <td>METEVDDFPGKASIFSQVNPLYSNNMKLCEAERYDFQHSEPKTMKS...</td>\n",
       "    </tr>\n",
       "    <tr>\n",
       "      <th>142242</th>\n",
       "      <td>MSAAASAEMIETPPVLNFEEIDYKEIEVEEVVGRGAFGVVCKAKWR...</td>\n",
       "    </tr>\n",
       "    <tr>\n",
       "      <th>142243</th>\n",
       "      <td>MADKGPILTSVIIFYLSIGAAIFQILEEPNLNSAVDDYKNKTNNLL...</td>\n",
       "    </tr>\n",
       "    <tr>\n",
       "      <th>142244</th>\n",
       "      <td>MGRKKIQITRIMDERNRQVTFTKRKFGLMKKAYELSVLCDCEIALI...</td>\n",
       "    </tr>\n",
       "    <tr>\n",
       "      <th>142245</th>\n",
       "      <td>HCISSLKLTAFFKRSFLLSPEKHLVLLRDGRTLIGFLRSIDQFANL...</td>\n",
       "    </tr>\n",
       "  </tbody>\n",
       "</table>\n",
       "<p>142246 rows × 1 columns</p>\n",
       "</div>"
      ],
      "text/plain": [
       "                                                 sequence\n",
       "0       MNSVTVSHAPYTITYHDDWEPVMSQLVEFYNEVASWLLRDETSPIP...\n",
       "1       MTEYRNFLLLFITSLSVIYPCTGISWLGLTINGSSVGWNQTHHCKL...\n",
       "2       MRLSSSPPRGPQQLSSFGSVDWLSQSSCSGPTHTPRPADFSLGSLP...\n",
       "3       MGGEAGADGPRGRVKSLGLVFEDESKGCYSSGETVAGHVLLEAAEP...\n",
       "4       MVETNSPPAGYTLKRSPSDLGEQQQPPRQISRSPGNTAAYHLTTAM...\n",
       "...                                                   ...\n",
       "142241  METEVDDFPGKASIFSQVNPLYSNNMKLCEAERYDFQHSEPKTMKS...\n",
       "142242  MSAAASAEMIETPPVLNFEEIDYKEIEVEEVVGRGAFGVVCKAKWR...\n",
       "142243  MADKGPILTSVIIFYLSIGAAIFQILEEPNLNSAVDDYKNKTNNLL...\n",
       "142244  MGRKKIQITRIMDERNRQVTFTKRKFGLMKKAYELSVLCDCEIALI...\n",
       "142245  HCISSLKLTAFFKRSFLLSPEKHLVLLRDGRTLIGFLRSIDQFANL...\n",
       "\n",
       "[142246 rows x 1 columns]"
      ]
     },
     "execution_count": 3,
     "metadata": {},
     "output_type": "execute_result"
    }
   ],
   "source": [
    "df"
   ]
  }
 ],
 "metadata": {
  "kernelspec": {
   "display_name": "pytorch2",
   "language": "python",
   "name": "python3"
  },
  "language_info": {
   "codemirror_mode": {
    "name": "ipython",
    "version": 3
   },
   "file_extension": ".py",
   "mimetype": "text/x-python",
   "name": "python",
   "nbconvert_exporter": "python",
   "pygments_lexer": "ipython3",
   "version": "3.12.3"
  }
 },
 "nbformat": 4,
 "nbformat_minor": 2
}
